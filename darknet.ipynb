{
  "nbformat": 4,
  "nbformat_minor": 0,
  "metadata": {
    "colab": {
      "name": "darknet.ipynb",
      "provenance": [],
      "collapsed_sections": [],
      "toc_visible": true,
      "authorship_tag": "ABX9TyPgVLfzqWSFQI6DPqjtv/5S",
      "include_colab_link": true
    },
    "kernelspec": {
      "name": "python3",
      "display_name": "Python 3"
    },
    "accelerator": "GPU"
  },
  "cells": [
    {
      "cell_type": "markdown",
      "metadata": {
        "id": "view-in-github",
        "colab_type": "text"
      },
      "source": [
        "<a href=\"https://colab.research.google.com/github/wawa6609/googlecolab/blob/master/darknet.ipynb\" target=\"_parent\"><img src=\"https://colab.research.google.com/assets/colab-badge.svg\" alt=\"Open In Colab\"/></a>"
      ]
    },
    {
      "cell_type": "markdown",
      "metadata": {
        "id": "_H6RyFQFVE7Z",
        "colab_type": "text"
      },
      "source": [
        "#Mounting google drive"
      ]
    },
    {
      "cell_type": "code",
      "metadata": {
        "id": "ZBJWGJo7UVbW",
        "colab_type": "code",
        "outputId": "6a497e5e-90c3-4dfb-9058-fb1faab03ae1",
        "colab": {
          "base_uri": "https://localhost:8080/",
          "height": 138
        }
      },
      "source": [
        "from google.colab import drive\n",
        "drive.mount('/content/drive')\n",
        "%cd /content/drive/My\\ Drive/Google\\ Colab/\n",
        "#%cd darknet/"
      ],
      "execution_count": 1,
      "outputs": [
        {
          "output_type": "stream",
          "text": [
            "Go to this URL in a browser: https://accounts.google.com/o/oauth2/auth?client_id=947318989803-6bn6qk8qdgf4n4g3pfee6491hc0brc4i.apps.googleusercontent.com&redirect_uri=urn%3aietf%3awg%3aoauth%3a2.0%3aoob&response_type=code&scope=email%20https%3a%2f%2fwww.googleapis.com%2fauth%2fdocs.test%20https%3a%2f%2fwww.googleapis.com%2fauth%2fdrive%20https%3a%2f%2fwww.googleapis.com%2fauth%2fdrive.photos.readonly%20https%3a%2f%2fwww.googleapis.com%2fauth%2fpeopleapi.readonly\n",
            "\n",
            "Enter your authorization code:\n",
            "··········\n",
            "Mounted at /content/drive\n",
            "/content/drive/My Drive/Google Colab\n"
          ],
          "name": "stdout"
        }
      ]
    },
    {
      "cell_type": "markdown",
      "metadata": {
        "id": "n3Ja-aLrebjr",
        "colab_type": "text"
      },
      "source": [
        "#Installing cudnn"
      ]
    },
    {
      "cell_type": "code",
      "metadata": {
        "id": "hxRtS8Xneega",
        "colab_type": "code",
        "outputId": "d36c22c0-c442-41b1-d2a4-7924ae4d93ff",
        "colab": {
          "base_uri": "https://localhost:8080/",
          "height": 118
        }
      },
      "source": [
        "!tar -xzvf cuDNN/cudnn-10.1-linux-x64-v7.6.5.32.tgz -C /usr/local/\n",
        "!chmod a+r /usr/local/cuda/include/cudnn.h\n",
        "#!cat /usr/local/cuda/include/cudnn.h | grep CUDNN_MAJOR -A 2"
      ],
      "execution_count": 2,
      "outputs": [
        {
          "output_type": "stream",
          "text": [
            "cuda/include/cudnn.h\n",
            "cuda/NVIDIA_SLA_cuDNN_Support.txt\n",
            "cuda/lib64/libcudnn.so\n",
            "cuda/lib64/libcudnn.so.7\n",
            "cuda/lib64/libcudnn.so.7.6.5\n",
            "cuda/lib64/libcudnn_static.a\n"
          ],
          "name": "stdout"
        }
      ]
    },
    {
      "cell_type": "markdown",
      "metadata": {
        "id": "NNn4xaAvOSK-",
        "colab_type": "text"
      },
      "source": [
        "#Downloading darknet"
      ]
    },
    {
      "cell_type": "code",
      "metadata": {
        "id": "8cCKVYS2JdC9",
        "colab_type": "code",
        "outputId": "c23138f1-c90d-43d5-f7bc-3af01f8f4793",
        "colab": {
          "base_uri": "https://localhost:8080/",
          "height": 118
        }
      },
      "source": [
        "!git clone https://github.com/pjreddie/darknet.git"
      ],
      "execution_count": 0,
      "outputs": [
        {
          "output_type": "stream",
          "text": [
            "Cloning into 'darknet'...\n",
            "remote: Enumerating objects: 5904, done.\u001b[K\n",
            "remote: Total 5904 (delta 0), reused 0 (delta 0), pack-reused 5904\u001b[K\n",
            "Receiving objects: 100% (5904/5904), 6.32 MiB | 7.05 MiB/s, done.\n",
            "Resolving deltas: 100% (3922/3922), done.\n",
            "Checking out files: 100% (979/979), done.\n"
          ],
          "name": "stdout"
        }
      ]
    },
    {
      "cell_type": "markdown",
      "metadata": {
        "id": "dU9cT21oOX7C",
        "colab_type": "text"
      },
      "source": [
        "#Installing/enabling darknet"
      ]
    },
    {
      "cell_type": "code",
      "metadata": {
        "id": "gh0PwiW9G7w5",
        "colab_type": "code",
        "outputId": "9e898058-dfbf-4790-d372-fc5fba3c5df6",
        "colab": {
          "base_uri": "https://localhost:8080/",
          "height": 34
        }
      },
      "source": [
        "%cd darknet/\n",
        "#!make\n",
        "!chmod +x ./darknet"
      ],
      "execution_count": 3,
      "outputs": [
        {
          "output_type": "stream",
          "text": [
            "/content/drive/My Drive/Google Colab/darknet\n"
          ],
          "name": "stdout"
        }
      ]
    },
    {
      "cell_type": "markdown",
      "metadata": {
        "id": "4TK2fgefOdNP",
        "colab_type": "text"
      },
      "source": [
        "#Downloading yolo weights"
      ]
    },
    {
      "cell_type": "code",
      "metadata": {
        "id": "dMuc8E630ojx",
        "colab_type": "code",
        "colab": {}
      },
      "source": [
        "%cd weights/\n",
        "\n",
        "# yolov2\n",
        "#!wget https://pjreddie.com/media/files/yolov2.weights\n",
        "\n",
        "# yolov3\n",
        "#!wget https://pjreddie.com/media/files/yolov3.weights\n",
        "\n",
        "# yolov3-tiny\n",
        "#!wget https://pjreddie.com/media/files/yolov3-tiny.weights\n",
        "\n",
        "# pretrained weights\n",
        "#!wget https://pjreddie.com/media/files/darknet53.conv.74\n",
        "\n",
        "%cd .."
      ],
      "execution_count": 0,
      "outputs": []
    },
    {
      "cell_type": "markdown",
      "metadata": {
        "id": "Mu1KCEox6V-Y",
        "colab_type": "text"
      },
      "source": [
        "#Recovering primary data"
      ]
    },
    {
      "cell_type": "code",
      "metadata": {
        "id": "0m3o08JD6Tis",
        "colab_type": "code",
        "outputId": "6382f7ad-dff2-4980-c3d5-fe5f8fb4d377",
        "colab": {
          "base_uri": "https://localhost:8080/",
          "height": 84
        }
      },
      "source": [
        "!rm -r data\n",
        "!mv data_old/ data/\n",
        "!ls data"
      ],
      "execution_count": 0,
      "outputs": [
        {
          "output_type": "stream",
          "text": [
            "9k.labels   coco.names\t goal.txt\t\t   inet9k.map\t     person.jpg\n",
            "9k.names    dog.jpg\t horses.jpg\t\t   kite.jpg\t     scream.jpg\n",
            "9k.tree     eagle.jpg\t imagenet.labels.list\t   labels\t     voc.names\n",
            "coco9k.map  giraffe.jpg  imagenet.shortnames.list  openimages.names\n"
          ],
          "name": "stdout"
        }
      ]
    },
    {
      "cell_type": "markdown",
      "metadata": {
        "id": "S9kn47hG6g7L",
        "colab_type": "text"
      },
      "source": [
        "#Own data for net training"
      ]
    },
    {
      "cell_type": "code",
      "metadata": {
        "id": "O2NFPYHb5vWr",
        "colab_type": "code",
        "colab": {}
      },
      "source": [
        "!mv data/ data_old/\n",
        "!cp -r ../MyNet/data/ .\n",
        "!cp -r data_old/labels/ data/\n",
        "!cp data/obj.names data/coco.names"
      ],
      "execution_count": 0,
      "outputs": []
    },
    {
      "cell_type": "markdown",
      "metadata": {
        "id": "ySLxRnpj35dq",
        "colab_type": "text"
      },
      "source": [
        "#Starting net training"
      ]
    },
    {
      "cell_type": "code",
      "metadata": {
        "id": "m0aX67Rv3-qU",
        "colab_type": "code",
        "colab": {}
      },
      "source": [
        "!./darknet detector train data/obj.data cfg/myown.cfg weights/darknet53.conv.74+ -map 0.02"
      ],
      "execution_count": 0,
      "outputs": []
    },
    {
      "cell_type": "markdown",
      "metadata": {
        "id": "drgccAygIIlQ",
        "colab_type": "text"
      },
      "source": [
        "#Resuming training"
      ]
    },
    {
      "cell_type": "code",
      "metadata": {
        "id": "01KWwkQVIOP8",
        "colab_type": "code",
        "colab": {}
      },
      "source": [
        "!cp backup/myown.backup weights/myown.weights\n",
        "!./darknet detector train data/obj.data cfg/myown.cfg weights/myown.weights -map 0.02"
      ],
      "execution_count": 0,
      "outputs": []
    },
    {
      "cell_type": "markdown",
      "metadata": {
        "id": "9gPvi_QBUgsG",
        "colab_type": "text"
      },
      "source": [
        "# Plotting the training accuracy history"
      ]
    },
    {
      "cell_type": "code",
      "metadata": {
        "id": "2TKv1jML21aG",
        "colab_type": "code",
        "colab": {}
      },
      "source": [
        "!./darknet detector map data/obj.data cfg/myown.cfg backup/myown.backup > log/myown.\n",
        "!python plot_yolo_log.py log/myown.log\n",
        "from IPython.display import Image, display\n",
        "display(Image('log/myown.log.png'))"
      ],
      "execution_count": 0,
      "outputs": []
    },
    {
      "cell_type": "markdown",
      "metadata": {
        "id": "Pwf4QsgCO1n0",
        "colab_type": "text"
      },
      "source": [
        "#Example detection"
      ]
    },
    {
      "cell_type": "code",
      "metadata": {
        "id": "BC07G_jc3A3Z",
        "colab_type": "code",
        "outputId": "6aae54d2-ca37-48af-cde4-2c4ad6f3c662",
        "colab": {
          "base_uri": "https://localhost:8080/",
          "height": 487
        }
      },
      "source": [
        "# yolov2\n",
        "#!./darknet detect cfg/yolov2.cfg weights/yolov2.weights data/person.jpg\n",
        "\n",
        "# yolov3-tiny\n",
        "#!./darknet detect cfg/yolov3-tiny.cfg weights/yolov3-tiny.weights data/giraffe.jpg\n",
        "\n",
        "# yolov3\n",
        "#!./darknet detect cfg/yolov3.cfg weights/yolov3.weights data/dog.jpg\n",
        "\n",
        "# myown\n",
        "!./darknet detect cfg/myown.cfg weights/myown.weights data/img/IMG_20200530_134155.jpg"
      ],
      "execution_count": 63,
      "outputs": [
        {
          "output_type": "stream",
          "text": [
            "layer     filters    size              input                output\n",
            "    0 conv     16  3 x 3 / 1   416 x 416 x   3   ->   416 x 416 x  16  0.150 BFLOPs\n",
            "    1 max          2 x 2 / 2   416 x 416 x  16   ->   208 x 208 x  16\n",
            "    2 conv     32  3 x 3 / 1   208 x 208 x  16   ->   208 x 208 x  32  0.399 BFLOPs\n",
            "    3 max          2 x 2 / 2   208 x 208 x  32   ->   104 x 104 x  32\n",
            "    4 conv     64  3 x 3 / 1   104 x 104 x  32   ->   104 x 104 x  64  0.399 BFLOPs\n",
            "    5 max          2 x 2 / 2   104 x 104 x  64   ->    52 x  52 x  64\n",
            "    6 conv    128  3 x 3 / 1    52 x  52 x  64   ->    52 x  52 x 128  0.399 BFLOPs\n",
            "    7 max          2 x 2 / 2    52 x  52 x 128   ->    26 x  26 x 128\n",
            "    8 conv    256  3 x 3 / 1    26 x  26 x 128   ->    26 x  26 x 256  0.399 BFLOPs\n",
            "    9 max          2 x 2 / 2    26 x  26 x 256   ->    13 x  13 x 256\n",
            "   10 conv    512  3 x 3 / 1    13 x  13 x 256   ->    13 x  13 x 512  0.399 BFLOPs\n",
            "   11 max          2 x 2 / 1    13 x  13 x 512   ->    13 x  13 x 512\n",
            "   12 conv   1024  3 x 3 / 1    13 x  13 x 512   ->    13 x  13 x1024  1.595 BFLOPs\n",
            "   13 conv    256  1 x 1 / 1    13 x  13 x1024   ->    13 x  13 x 256  0.089 BFLOPs\n",
            "   14 conv    512  3 x 3 / 1    13 x  13 x 256   ->    13 x  13 x 512  0.399 BFLOPs\n",
            "   15 conv     18  1 x 1 / 1    13 x  13 x 512   ->    13 x  13 x  18  0.003 BFLOPs\n",
            "   16 yolo\n",
            "   17 route  13\n",
            "   18 conv    128  1 x 1 / 1    13 x  13 x 256   ->    13 x  13 x 128  0.011 BFLOPs\n",
            "   19 upsample            2x    13 x  13 x 128   ->    26 x  26 x 128\n",
            "   20 route  19 8\n",
            "   21 conv    256  3 x 3 / 1    26 x  26 x 384   ->    26 x  26 x 256  1.196 BFLOPs\n",
            "   22 conv     18  1 x 1 / 1    26 x  26 x 256   ->    26 x  26 x  18  0.006 BFLOPs\n",
            "   23 yolo\n",
            "Loading weights from weights/myown.weights...Done!\n",
            "data/img/IMG_20200530_134155.jpg: Predicted in 0.744666 seconds.\n",
            "2zl: 66%\n"
          ],
          "name": "stdout"
        }
      ]
    },
    {
      "cell_type": "markdown",
      "metadata": {
        "id": "q-Tu737KT-jD",
        "colab_type": "text"
      },
      "source": [
        "# Checking net accuracy"
      ]
    },
    {
      "cell_type": "code",
      "metadata": {
        "id": "9Z-xtw5QO8gO",
        "colab_type": "code",
        "colab": {
          "base_uri": "https://localhost:8080/",
          "height": 907
        },
        "outputId": "8b0e7876-8326-4654-8271-76f5f41fdb1a"
      },
      "source": [
        "!./darknet detector test data/obj.data cfg/myown.cfg backup/myown_7000.weights < data/train.txt"
      ],
      "execution_count": 57,
      "outputs": [
        {
          "output_type": "stream",
          "text": [
            "layer     filters    size              input                output\n",
            "    0 conv     16  3 x 3 / 1   416 x 416 x   3   ->   416 x 416 x  16  0.150 BFLOPs\n",
            "    1 max          2 x 2 / 2   416 x 416 x  16   ->   208 x 208 x  16\n",
            "    2 conv     32  3 x 3 / 1   208 x 208 x  16   ->   208 x 208 x  32  0.399 BFLOPs\n",
            "    3 max          2 x 2 / 2   208 x 208 x  32   ->   104 x 104 x  32\n",
            "    4 conv     64  3 x 3 / 1   104 x 104 x  32   ->   104 x 104 x  64  0.399 BFLOPs\n",
            "    5 max          2 x 2 / 2   104 x 104 x  64   ->    52 x  52 x  64\n",
            "    6 conv    128  3 x 3 / 1    52 x  52 x  64   ->    52 x  52 x 128  0.399 BFLOPs\n",
            "    7 max          2 x 2 / 2    52 x  52 x 128   ->    26 x  26 x 128\n",
            "    8 conv    256  3 x 3 / 1    26 x  26 x 128   ->    26 x  26 x 256  0.399 BFLOPs\n",
            "    9 max          2 x 2 / 2    26 x  26 x 256   ->    13 x  13 x 256\n",
            "   10 conv    512  3 x 3 / 1    13 x  13 x 256   ->    13 x  13 x 512  0.399 BFLOPs\n",
            "   11 max          2 x 2 / 1    13 x  13 x 512   ->    13 x  13 x 512\n",
            "   12 conv   1024  3 x 3 / 1    13 x  13 x 512   ->    13 x  13 x1024  1.595 BFLOPs\n",
            "   13 conv    256  1 x 1 / 1    13 x  13 x1024   ->    13 x  13 x 256  0.089 BFLOPs\n",
            "   14 conv    512  3 x 3 / 1    13 x  13 x 256   ->    13 x  13 x 512  0.399 BFLOPs\n",
            "   15 conv     18  1 x 1 / 1    13 x  13 x 512   ->    13 x  13 x  18  0.003 BFLOPs\n",
            "   16 yolo\n",
            "   17 route  13\n",
            "   18 conv    128  1 x 1 / 1    13 x  13 x 256   ->    13 x  13 x 128  0.011 BFLOPs\n",
            "   19 upsample            2x    13 x  13 x 128   ->    26 x  26 x 128\n",
            "   20 route  19 8\n",
            "   21 conv    256  3 x 3 / 1    26 x  26 x 384   ->    26 x  26 x 256  1.196 BFLOPs\n",
            "   22 conv     18  1 x 1 / 1    26 x  26 x 256   ->    26 x  26 x  18  0.006 BFLOPs\n",
            "   23 yolo\n",
            "Loading weights from backup/myown_7000.weights...Done!\n",
            "Enter Image Path: data/img/IMG_20200530_134151.jpg: Predicted in 0.749870 seconds.\n",
            "Enter Image Path: data/img/IMG_20200530_134153.jpg: Predicted in 0.746729 seconds.\n",
            "2zl: 98%\n",
            "Enter Image Path: data/img/IMG_20200530_134155.jpg: Predicted in 0.748363 seconds.\n",
            "2zl: 66%\n",
            "Enter Image Path: data/img/IMG_20200530_134157.jpg: Predicted in 0.740780 seconds.\n",
            "2zl: 91%\n",
            "Enter Image Path: data/img/IMG_20200530_134208.jpg: Predicted in 0.753903 seconds.\n",
            "2zl: 98%\n",
            "Enter Image Path: data/img/IMG_20200530_134209.jpg: Predicted in 0.738907 seconds.\n",
            "2zl: 82%\n",
            "Enter Image Path: data/img/IMG_20200530_134230.jpg: Predicted in 0.748621 seconds.\n",
            "2zl: 100%\n",
            "Enter Image Path: data/img/IMG_20200530_134231.jpg: Predicted in 0.749786 seconds.\n",
            "2zl: 99%\n",
            "Enter Image Path: data/img/IMG_20200530_134238.jpg: Predicted in 0.749395 seconds.\n",
            "2zl: 97%\n",
            "Enter Image Path: data/img/IMG_20200530_134239.jpg: Predicted in 0.744358 seconds.\n",
            "2zl: 93%\n",
            "Enter Image Path: data/img/IMG_20200530_134251.jpg: Predicted in 0.739860 seconds.\n",
            "2zl: 83%\n",
            "Enter Image Path: data/img/IMG_20200530_134253.jpg: Predicted in 0.744628 seconds.\n",
            "2zl: 91%\n",
            "Enter Image Path: data/img/IMG_20200530_134257.jpg: Predicted in 0.732751 seconds.\n",
            "Enter Image Path: data/img/IMG_20200530_134258.jpg: Predicted in 0.745206 seconds.\n",
            "Enter Image Path: data/img/IMG_20200530_134300.jpg: Predicted in 0.744889 seconds.\n",
            "Enter Image Path: "
          ],
          "name": "stdout"
        }
      ]
    },
    {
      "cell_type": "markdown",
      "metadata": {
        "id": "KYX7xkykOwkV",
        "colab_type": "text"
      },
      "source": [
        "#Displaying detections"
      ]
    },
    {
      "cell_type": "code",
      "metadata": {
        "id": "YZlP9GMUnLe2",
        "colab_type": "code",
        "outputId": "1e104ef9-9365-40f5-a27c-6977d0a4fe9c",
        "colab": {
          "base_uri": "https://localhost:8080/",
          "height": 615
        }
      },
      "source": [
        "from IPython.display import Image, display\n",
        "display(Image('predictions.jpg'))"
      ],
      "execution_count": 68,
      "outputs": [
        {
          "output_type": "display_data",
          "data": {
            "image/jpeg": "[encoded data removed]",
            "text/plain": [
              "<IPython.core.display.Image object>"
            ]
          },
          "metadata": {
            "tags": []
          }
        }
      ]
    }
  ]
}