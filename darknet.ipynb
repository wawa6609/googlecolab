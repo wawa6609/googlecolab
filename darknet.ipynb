{
  "nbformat": 4,
  "nbformat_minor": 0,
  "metadata": {
    "colab": {
      "name": "darknet.ipynb",
      "provenance": [],
      "collapsed_sections": [],
      "toc_visible": true,
      "include_colab_link": true
    },
    "kernelspec": {
      "name": "python3",
      "display_name": "Python 3"
    },
    "accelerator": "GPU"
  },
  "cells": [
    {
      "cell_type": "markdown",
      "metadata": {
        "id": "view-in-github",
        "colab_type": "text"
      },
      "source": [
        "<a href=\"https://colab.research.google.com/github/wawa6609/googlecolab/blob/master/darknet.ipynb\" target=\"_parent\"><img src=\"https://colab.research.google.com/assets/colab-badge.svg\" alt=\"Open In Colab\"/></a>"
      ]
    },
    {
      "cell_type": "markdown",
      "metadata": {
        "id": "_H6RyFQFVE7Z",
        "colab_type": "text"
      },
      "source": [
        "#Mounting google drive"
      ]
    },
    {
      "cell_type": "code",
      "metadata": {
        "id": "ZBJWGJo7UVbW",
        "colab_type": "code",
        "colab": {
          "base_uri": "https://localhost:8080/",
          "height": 34
        },
        "outputId": "73c4b94e-50d2-4d05-f085-5bf04b40a59e"
      },
      "source": [
        "from google.colab import drive\n",
        "drive.mount('/content/drive')\n",
        "%cd /content/drive/My\\ Drive/yolov4\n",
        "#%cd darknet/"
      ],
      "execution_count": 1,
      "outputs": [
        {
          "output_type": "stream",
          "text": [
            "/content/drive/My Drive/yolov4\n"
          ],
          "name": "stdout"
        }
      ]
    },
    {
      "cell_type": "markdown",
      "metadata": {
        "id": "n3Ja-aLrebjr",
        "colab_type": "text"
      },
      "source": [
        "#Installing cudnn"
      ]
    },
    {
      "cell_type": "code",
      "metadata": {
        "id": "5Tu4rN6Boo_I",
        "colab_type": "code",
        "colab": {
          "base_uri": "https://localhost:8080/",
          "height": 84
        },
        "outputId": "899e1b65-ab61-4d0d-ecdf-9b609de6b40e"
      },
      "source": [
        "!nvcc --version"
      ],
      "execution_count": 6,
      "outputs": [
        {
          "output_type": "stream",
          "text": [
            "nvcc: NVIDIA (R) Cuda compiler driver\n",
            "Copyright (c) 2005-2019 NVIDIA Corporation\n",
            "Built on Sun_Jul_28_19:07:16_PDT_2019\n",
            "Cuda compilation tools, release 10.1, V10.1.243\n"
          ],
          "name": "stdout"
        }
      ]
    },
    {
      "cell_type": "code",
      "metadata": {
        "id": "3s_4nJKi7EEt",
        "colab_type": "code",
        "colab": {}
      },
      "source": [
        "!mkdir cudnn"
      ],
      "execution_count": null,
      "outputs": []
    },
    {
      "cell_type": "markdown",
      "metadata": {
        "id": "MhczKrMk7H42",
        "colab_type": "text"
      },
      "source": [
        "Download correct archive from nvidia page and copy it to cudnn folder. <br>\n",
        "https://developer.nvidia.com/cudnn"
      ]
    },
    {
      "cell_type": "code",
      "metadata": {
        "id": "hxRtS8Xneega",
        "colab_type": "code",
        "colab": {
          "base_uri": "https://localhost:8080/",
          "height": 134
        },
        "outputId": "1be76b70-687e-4bc8-eebc-b94a5a002a3b"
      },
      "source": [
        "!tar -xzvf cudnn/cudnn-10.1-linux-x64-v7.6.5.32.tgz -C /usr/local/\n",
        "!chmod a+r /usr/local/cuda/include/cudnn.h\n",
        "#!cat /usr/local/cuda/include/cudnn.h | grep CUDNN_MAJOR -A 2"
      ],
      "execution_count": 12,
      "outputs": [
        {
          "output_type": "stream",
          "text": [
            "mkdir: cannot create directory ‘cudnn’: File exists\n",
            "cuda/include/cudnn.h\n",
            "cuda/NVIDIA_SLA_cuDNN_Support.txt\n",
            "cuda/lib64/libcudnn.so\n",
            "cuda/lib64/libcudnn.so.7\n",
            "cuda/lib64/libcudnn.so.7.6.5\n",
            "cuda/lib64/libcudnn_static.a\n"
          ],
          "name": "stdout"
        }
      ]
    },
    {
      "cell_type": "markdown",
      "metadata": {
        "id": "NNn4xaAvOSK-",
        "colab_type": "text"
      },
      "source": [
        "#Downloading darknet"
      ]
    },
    {
      "cell_type": "code",
      "metadata": {
        "id": "8cCKVYS2JdC9",
        "colab_type": "code",
        "colab": {
          "base_uri": "https://localhost:8080/",
          "height": 118
        },
        "outputId": "1bbac1b3-686f-4213-f2be-ce405733c711"
      },
      "source": [
        "!git clone https://github.com/AlexeyAB/darknet/"
      ],
      "execution_count": 2,
      "outputs": [
        {
          "output_type": "stream",
          "text": [
            "Cloning into 'darknet'...\n",
            "remote: Enumerating objects: 13781, done.\u001b[K\n",
            "remote: Total 13781 (delta 0), reused 0 (delta 0), pack-reused 13781\u001b[K\n",
            "Receiving objects: 100% (13781/13781), 12.36 MiB | 6.35 MiB/s, done.\n",
            "Resolving deltas: 100% (9407/9407), done.\n",
            "Checking out files: 100% (2006/2006), done.\n"
          ],
          "name": "stdout"
        }
      ]
    },
    {
      "cell_type": "markdown",
      "metadata": {
        "id": "dU9cT21oOX7C",
        "colab_type": "text"
      },
      "source": [
        "#Installing/enabling darknet"
      ]
    },
    {
      "cell_type": "code",
      "metadata": {
        "id": "gh0PwiW9G7w5",
        "colab_type": "code",
        "colab": {}
      },
      "source": [
        "%cd darknet/\n",
        "#!make\n",
        "!chmod +x ./darknet"
      ],
      "execution_count": null,
      "outputs": []
    },
    {
      "cell_type": "markdown",
      "metadata": {
        "id": "4TK2fgefOdNP",
        "colab_type": "text"
      },
      "source": [
        "#Downloading yolo weights"
      ]
    },
    {
      "cell_type": "code",
      "metadata": {
        "id": "dMuc8E630ojx",
        "colab_type": "code",
        "colab": {
          "base_uri": "https://localhost:8080/",
          "height": 235
        },
        "outputId": "a90b2031-521f-4ff1-d284-72e0262fc621"
      },
      "source": [
        "!mkdir weights\n",
        "%cd weights/\n",
        "\n",
        "# yolov2\n",
        "#!wget https://pjreddie.com/media/files/yolov2.weights\n",
        "\n",
        "# yolov3\n",
        "#!wget https://pjreddie.com/media/files/yolov3.weights\n",
        "\n",
        "# yolov3-tiny\n",
        "#!wget https://pjreddie.com/media/files/yolov3-tiny.weights\n",
        "\n",
        "# pretrained weights\n",
        "!wget https://pjreddie.com/media/files/darknet53.conv.74\n",
        "\n",
        "%cd .."
      ],
      "execution_count": 4,
      "outputs": [
        {
          "output_type": "stream",
          "text": [
            "/content/drive/My Drive/yolov4/darknet/weights\n",
            "--2020-07-04 20:15:07--  https://pjreddie.com/media/files/darknet53.conv.74\n",
            "Resolving pjreddie.com (pjreddie.com)... 128.208.4.108\n",
            "Connecting to pjreddie.com (pjreddie.com)|128.208.4.108|:443... connected.\n",
            "HTTP request sent, awaiting response... 200 OK\n",
            "Length: 162482580 (155M) [application/octet-stream]\n",
            "Saving to: ‘darknet53.conv.74’\n",
            "\n",
            "darknet53.conv.74   100%[===================>] 154.96M  3.92MB/s    in 49s     \n",
            "\n",
            "2020-07-04 20:15:57 (3.18 MB/s) - ‘darknet53.conv.74’ saved [162482580/162482580]\n",
            "\n",
            "/content/drive/My Drive/yolov4/darknet\n"
          ],
          "name": "stdout"
        }
      ]
    },
    {
      "cell_type": "markdown",
      "metadata": {
        "id": "S9kn47hG6g7L",
        "colab_type": "text"
      },
      "source": [
        "#Own data for net training"
      ]
    },
    {
      "cell_type": "code",
      "metadata": {
        "id": "jn96SUuy8FO8",
        "colab_type": "code",
        "colab": {}
      },
      "source": [
        "!mkdir ../MyNet/"
      ],
      "execution_count": null,
      "outputs": []
    },
    {
      "cell_type": "markdown",
      "metadata": {
        "id": "Ur79QvXx8KuG",
        "colab_type": "text"
      },
      "source": [
        "Copy dataset to MyNet folder."
      ]
    },
    {
      "cell_type": "code",
      "metadata": {
        "id": "O2NFPYHb5vWr",
        "colab_type": "code",
        "colab": {}
      },
      "source": [
        "!cp -r ../MyNet/data/* build/darknet/x64/data/"
      ],
      "execution_count": 5,
      "outputs": []
    },
    {
      "cell_type": "markdown",
      "metadata": {
        "id": "WZmjtplgDDEp",
        "colab_type": "text"
      },
      "source": [
        "##Labels"
      ]
    },
    {
      "cell_type": "code",
      "metadata": {
        "id": "DZpoZsSTC9TQ",
        "colab_type": "code",
        "colab": {}
      },
      "source": [
        "#!cp build/darknet/x64/data/train/_darknet.labels build/darknet/x64/data/obj.names\n",
        "!mv data/coco.names data/coco_old.names\n",
        "!cp build/darknet/x64/data/obj.names data/coco.names\n",
        "#!mv data/coco_old.names data/coco.names"
      ],
      "execution_count": 52,
      "outputs": []
    },
    {
      "cell_type": "markdown",
      "metadata": {
        "id": "5szUHgns_gI3",
        "colab_type": "text"
      },
      "source": [
        "## obj.data file"
      ]
    },
    {
      "cell_type": "code",
      "metadata": {
        "id": "DLZ7IgIIYza1",
        "colab_type": "code",
        "colab": {}
      },
      "source": [
        "obj_data = \"\"\"classes= 1\n",
        "train  = build/darknet/x64/data/train.txt\n",
        "valid  = build/darknet/x64/data/valid.txt\n",
        "names = build/darknet/x64/data/obj.names\n",
        "backup = build/darknet/x64/backup/\n",
        "\"\"\"\n",
        "\n",
        "file = \"\"\"text_file = open(\"build/darknet/x64/data/obj.data\", \"w\");text_file.write(obj_data);text_file.close()\"\"\" \n",
        "\n",
        "exec(file)\n",
        "%pycat build/darknet/x64/data/obj.data"
      ],
      "execution_count": 7,
      "outputs": []
    },
    {
      "cell_type": "markdown",
      "metadata": {
        "id": "hK1e5PaXE4qD",
        "colab_type": "text"
      },
      "source": [
        "##Train file and valid file"
      ]
    },
    {
      "cell_type": "code",
      "metadata": {
        "id": "uYFZpgQvg7Dq",
        "colab_type": "code",
        "colab": {}
      },
      "source": [
        "!ls build/darknet/x64/data/train/*.jpg > build/darknet/x64/data/train.txt\n",
        "!ls build/darknet/x64/data/valid/*.jpg > build/darknet/x64/data/valid.txt\n",
        "!ls build/darknet/x64/data/test/*.jpg > build/darknet/x64/data/test.txt"
      ],
      "execution_count": 15,
      "outputs": []
    },
    {
      "cell_type": "markdown",
      "metadata": {
        "id": "ySLxRnpj35dq",
        "colab_type": "text"
      },
      "source": [
        "#Starting net training"
      ]
    },
    {
      "cell_type": "code",
      "metadata": {
        "id": "m0aX67Rv3-qU",
        "colab_type": "code",
        "colab": {}
      },
      "source": [
        "!./darknet detector train build/darknet/x64/data/obj.data cfg/myown.cfg weights/darknet53.conv.74 -dont_show -map"
      ],
      "execution_count": null,
      "outputs": []
    },
    {
      "cell_type": "markdown",
      "metadata": {
        "id": "drgccAygIIlQ",
        "colab_type": "text"
      },
      "source": [
        "#Resuming training"
      ]
    },
    {
      "cell_type": "code",
      "metadata": {
        "id": "01KWwkQVIOP8",
        "colab_type": "code",
        "colab": {}
      },
      "source": [
        "!cp build/darknet/x64/backup/myown_last.weights weights/myown.weights\n",
        "!./darknet detector train build/darknet/x64/data/obj.data cfg/myown.cfg weights/myown.weights -dont_show -map"
      ],
      "execution_count": null,
      "outputs": []
    },
    {
      "cell_type": "markdown",
      "metadata": {
        "id": "X4USaAG06YGl",
        "colab_type": "text"
      },
      "source": [
        "#Copying best weights"
      ]
    },
    {
      "cell_type": "code",
      "metadata": {
        "id": "Ijx2o5le6Ebg",
        "colab_type": "code",
        "colab": {}
      },
      "source": [
        "!cp build/darknet/x64/backup/myown_best.weights weights/myown.weights"
      ],
      "execution_count": 64,
      "outputs": []
    },
    {
      "cell_type": "markdown",
      "metadata": {
        "id": "9gPvi_QBUgsG",
        "colab_type": "text"
      },
      "source": [
        "# Plotting the training accuracy history"
      ]
    },
    {
      "cell_type": "code",
      "metadata": {
        "id": "2TKv1jML21aG",
        "colab_type": "code",
        "colab": {}
      },
      "source": [
        "!./darknet detector map build/darknet/x64/data/obj.data cfg/myown.cfg weights/myown.weights -dont_show\n",
        "from IPython.display import Image, display\n",
        "display(Image('chart.png'))\n",
        "#display(Image('chart_myown.png'))"
      ],
      "execution_count": null,
      "outputs": []
    },
    {
      "cell_type": "markdown",
      "metadata": {
        "id": "Pwf4QsgCO1n0",
        "colab_type": "text"
      },
      "source": [
        "#Example detection"
      ]
    },
    {
      "cell_type": "code",
      "metadata": {
        "id": "BC07G_jc3A3Z",
        "colab_type": "code",
        "colab": {}
      },
      "source": [
        "# yolov2\n",
        "#!./darknet detect cfg/yolov2.cfg weights/yolov2.weights data/person.jpg\n",
        "\n",
        "# yolov3-tiny\n",
        "#!./darknet detect cfg/yolov3-tiny.cfg weights/yolov3-tiny.weights data/giraffe.jpg\n",
        "\n",
        "# yolov3\n",
        "#!./darknet detect cfg/yolov3.cfg weights/yolov3.weights data/dog.jpg\n",
        "\n",
        "# myown\n",
        "!./darknet detect cfg/myown.cfg weights/myown.weights build/darknet/x64/data/train/h22_jpg.rf.df8c90641790dcaf15663ed09e6b4ba5.jpg -dont_show -thresh 0.2 "
      ],
      "execution_count": null,
      "outputs": []
    },
    {
      "cell_type": "markdown",
      "metadata": {
        "id": "q-Tu737KT-jD",
        "colab_type": "text"
      },
      "source": [
        "# Checking net accuracy"
      ]
    },
    {
      "cell_type": "code",
      "metadata": {
        "id": "9Z-xtw5QO8gO",
        "colab_type": "code",
        "colab": {}
      },
      "source": [
        "!./darknet detector test build/darknet/x64/data/obj.data cfg/myown.cfg weights/myown.weights -dont_show < build/darknet/x64/data/train.txt"
      ],
      "execution_count": null,
      "outputs": []
    },
    {
      "cell_type": "markdown",
      "metadata": {
        "id": "KYX7xkykOwkV",
        "colab_type": "text"
      },
      "source": [
        "#Displaying detections"
      ]
    },
    {
      "cell_type": "code",
      "metadata": {
        "id": "YZlP9GMUnLe2",
        "colab_type": "code",
        "colab": {}
      },
      "source": [
        "from IPython.display import Image, display\n",
        "display(Image('predictions.jpg'))"
      ],
      "execution_count": null,
      "outputs": []
    }
  ]
}